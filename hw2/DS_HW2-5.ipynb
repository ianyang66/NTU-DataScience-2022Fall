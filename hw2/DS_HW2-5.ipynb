{
 "cells": [
  {
   "cell_type": "code",
   "execution_count": 2,
   "id": "d5d8c491",
   "metadata": {},
   "outputs": [],
   "source": [
    "import numpy as np\n",
    "from numpy import linalg as la\n",
    "import matplotlib.pyplot as plt\n",
    "import matplotlib.colors"
   ]
  },
  {
   "cell_type": "code",
   "execution_count": 11,
   "id": "0362ab01",
   "metadata": {},
   "outputs": [
    {
     "name": "stdout",
     "output_type": "stream",
     "text": [
      "Mean1: \n",
      " [4. 5.]\n",
      "Mean2: \n",
      " [8.17 6.67]\n",
      "Mean: \n",
      " [6.08 5.83]\n",
      "SB1: \n",
      " [[26.04 10.42]\n",
      " [10.42  4.17]]\n",
      "SB2: \n",
      " [[26.04 10.42]\n",
      " [10.42  4.17]]\n",
      "SB: \n",
      " [[52.08 20.83]\n",
      " [20.83  8.33]]\n",
      "SW1: \n",
      " [[ 4.  0.]\n",
      " [ 0. 10.]]\n",
      "SW2: \n",
      " [[ 6.83 10.33]\n",
      " [10.33 39.33]]\n",
      "SW: \n",
      " [[10.83 10.33]\n",
      " [10.33 49.33]]\n",
      "[[ 5.5   2.2 ]\n",
      " [-0.73 -0.29]]\n",
      "eigenvalues: \n",
      " [5.21e+00 5.55e-17]\n",
      "eigenvectors: \n",
      " [[ 0.99 -0.37]\n",
      " [-0.13  0.93]]\n"
     ]
    }
   ],
   "source": [
    "# Step0. Calculate some value\n",
    "c1 = np.array([[5,3],[3,5],[3,4],[4,5],[4,7],[5,6]])\n",
    "c2 = np.array([[9,10],[7,7],[8,5],[8,8],[7,2],[10,8]])\n",
    "c = np.concatenate((c1,c2), axis=0)\n",
    "\n",
    "\n",
    "mean_overall = np.mean(c, axis=0)\n",
    "mean_c1 = np.mean(c1, axis=0)\n",
    "mean_c2 = np.mean(c2, axis=0)\n",
    "print(\"Mean1: \" +'\\n', mean_c1)\n",
    "print(\"Mean2: \" +'\\n', mean_c2)\n",
    "print(\"Mean: \" +'\\n', mean_overall)\n",
    "\n",
    "\n",
    "# Step1. Between-class variance\n",
    "n_c = c1.shape[0]\n",
    "mean_diff_c1 = (mean_c1 - mean_overall).reshape(2, 1)\n",
    "SB1 = n_c * (mean_diff_c1).dot(mean_diff_c1.T)\n",
    "mean_diff_c2 = (mean_c2 - mean_overall).reshape(2, 1)\n",
    "SB2 = n_c * (mean_diff_c2).dot(mean_diff_c2.T)\n",
    "SB = SB1 + SB2\n",
    "print(\"SB1: \" +'\\n', SB1)\n",
    "print(\"SB2: \" +'\\n', SB2)\n",
    "print(\"SB: \" +'\\n', SB)\n",
    "\n",
    "# Step2. Within-Class Variance\n",
    "SW_c1 = (c1 - mean_c1).T.dot((c1 - mean_c1))\n",
    "SW_c2 = (c2 - mean_c2).T.dot((c2 - mean_c2))\n",
    "SW = SW_c1 + SW_c2\n",
    "print(\"SW1: \" +'\\n', SW_c1)\n",
    "print(\"SW2: \" +'\\n', SW_c2)\n",
    "print(\"SW: \" +'\\n', SW)\n",
    "\n",
    "#　Step3. Constructing the Lower Dimensional Space\n",
    "# Determine SW^-1 * SB\n",
    "SW_=la.inv(SW)\n",
    "A = la.inv(SW).dot(SB)\n",
    "\n",
    "print(A)\n",
    "# Get eigenvalues and eigenvectors of SW^-1 * SB\n",
    "eigenvalues, eigenvectors = la.eig(A)\n",
    "\n",
    "print(\"eigenvalues: \" +'\\n', eigenvalues)\n",
    "print(\"eigenvectors: \" +'\\n', eigenvectors)\n"
   ]
  },
  {
   "cell_type": "code",
   "execution_count": 3,
   "id": "e8d0f135",
   "metadata": {},
   "outputs": [
    {
     "name": "stdout",
     "output_type": "stream",
     "text": [
      "Mean1: \n",
      " [4. 5.]\n",
      "Mean2: \n",
      " [8.16666667 6.66666667]\n",
      "Mean: \n",
      " [6.08333333 5.83333333]\n",
      "SB1: \n",
      " [[4.34027778 1.73611111]\n",
      " [1.73611111 0.69444444]]\n",
      "SB2: \n",
      " [[4.34027778 1.73611111]\n",
      " [1.73611111 0.69444444]]\n",
      "SB: \n",
      " [[52.08333333 20.83333333]\n",
      " [20.83333333  8.33333333]]\n",
      "SW1: \n",
      " [[ 4.  0.]\n",
      " [ 0. 10.]]\n",
      "SW2: \n",
      " [[ 6.83333333 10.33333333]\n",
      " [10.33333333 39.33333333]]\n",
      "SW: \n",
      " [[10.83333333 10.33333333]\n",
      " [10.33333333 49.33333333]]\n",
      "[[ 5.50467654  2.20187062]\n",
      " [-0.73070928 -0.29228371]]\n",
      "eigenvalues: \n",
      " [5.21239283e+00 5.55111512e-17]\n",
      "eigenvectors: \n",
      " [[ 0.99130435 -0.37139068]\n",
      " [-0.13158907  0.92847669]]\n"
     ]
    }
   ],
   "source": [
    "# Step0. Calculate some value\n",
    "c1 = np.array([[5,3],[3,5],[3,4],[4,5],[4,7],[5,6]])\n",
    "c2 = np.array([[9,10],[7,7],[8,5],[8,8],[7,2],[10,8]])\n",
    "c = np.concatenate((c1,c2), axis=0)\n",
    "\n",
    "\n",
    "mean_overall = np.mean(c, axis=0)\n",
    "mean_c1 = np.mean(c1, axis=0)\n",
    "mean_c2 = np.mean(c2, axis=0)\n",
    "print(\"Mean1: \" +'\\n', mean_c1)\n",
    "print(\"Mean2: \" +'\\n', mean_c2)\n",
    "print(\"Mean: \" +'\\n', mean_overall)\n",
    "\n",
    "\n",
    "# Step1. Between-class variance\n",
    "n_c1 = c1.shape[0]\n",
    "n_c2 = c2.shape[0]\n",
    "mean_diff_c1 = (mean_c1 - mean_overall).reshape(2, 1)\n",
    "SB1 = (mean_diff_c1).dot(mean_diff_c1.T)\n",
    "\n",
    "mean_diff_c2 = (mean_c2 - mean_overall).reshape(2, 1)\n",
    "SB2 = (mean_diff_c2).dot(mean_diff_c2.T)\n",
    "SB = n_c1 * SB1 + n_c2 * SB2\n",
    "print(\"SB1: \" +'\\n', SB1)\n",
    "print(\"SB2: \" +'\\n', SB2)\n",
    "print(\"SB: \" +'\\n', SB)\n",
    "\n",
    "# Step2. Within-Class Variance\n",
    "SW_c1 = (c1 - mean_c1).T.dot((c1 - mean_c1))\n",
    "SW_c2 = (c2 - mean_c2).T.dot((c2 - mean_c2))\n",
    "np.cov(c1,c2)*n_c1\n",
    "SW = SW_c1 + SW_c2\n",
    "print(\"SW1: \" +'\\n', SW_c1)\n",
    "print(\"SW2: \" +'\\n', SW_c2)\n",
    "print(\"SW: \" +'\\n', SW)\n",
    "\n",
    "#　Step3. Constructing the Lower Dimensional Space\n",
    "# Determine SW^-1 * SB\n",
    "SW_=la.inv(SW)\n",
    "A = la.inv(SW).dot(SB)\n",
    "\n",
    "print(A)\n",
    "# Get eigenvalues and eigenvectors of SW^-1 * SB\n",
    "eigenvalues, eigenvectors = la.eig(A)\n",
    "\n",
    "print(\"eigenvalues: \" +'\\n', eigenvalues)\n",
    "print(\"eigenvectors: \" +'\\n', eigenvectors)\n"
   ]
  },
  {
   "cell_type": "code",
   "execution_count": 6,
   "id": "6fde5815",
   "metadata": {},
   "outputs": [
    {
     "data": {
      "image/png": "[encoded data removed]",
      "text/plain": [
       "<Figure size 500x500 with 1 Axes>"
      ]
     },
     "metadata": {},
     "output_type": "display_data"
    }
   ],
   "source": [
    "n1 = c1.shape[0]\n",
    "n2 = c2.shape[0]\n",
    "point_LDA1 = np.dot(c1, eigenvectors.T)\n",
    "point_LDA2 = np.dot(c2, eigenvectors.T)\n",
    "\n",
    "plt.figure(figsize=(5, 5))\n",
    "# plotting the graph\n",
    "plt.scatter(c1[:, 0], c1[:, 1], c = 'b')\n",
    "# plot points of class 2\n",
    "plt.scatter(c2[:, 0], c2[:, 1], c = 'r')\n",
    "plt.scatter(point_LDA1[:,0],np.zeros(n1), c='b')\n",
    "plt.scatter(point_LDA2[:,0],np.zeros(n2), c='r')\n",
    "\n",
    "plt.show()"
   ]
  },
  {
   "cell_type": "code",
   "execution_count": 2,
   "id": "36dc8e7f",
   "metadata": {},
   "outputs": [
    {
     "ename": "NameError",
     "evalue": "name 'X' is not defined",
     "output_type": "error",
     "traceback": [
      "\u001b[1;31m---------------------------------------------------------------------------\u001b[0m",
      "\u001b[1;31mNameError\u001b[0m                                 Traceback (most recent call last)",
      "Input \u001b[1;32mIn [2]\u001b[0m, in \u001b[0;36m<cell line: 4>\u001b[1;34m()\u001b[0m\n\u001b[0;32m      3\u001b[0m mean_vectors \u001b[38;5;241m=\u001b[39m []\n\u001b[0;32m      4\u001b[0m \u001b[38;5;28;01mfor\u001b[39;00m cl \u001b[38;5;129;01min\u001b[39;00m \u001b[38;5;28mrange\u001b[39m(\u001b[38;5;241m1\u001b[39m,\u001b[38;5;241m2\u001b[39m):\n\u001b[1;32m----> 5\u001b[0m     mean_vectors\u001b[38;5;241m.\u001b[39mappend(np\u001b[38;5;241m.\u001b[39mmean(\u001b[43mX\u001b[49m[y\u001b[38;5;241m==\u001b[39mcl], axis\u001b[38;5;241m=\u001b[39m\u001b[38;5;241m0\u001b[39m))\n\u001b[0;32m      6\u001b[0m     \u001b[38;5;28mprint\u001b[39m(\u001b[38;5;124m'\u001b[39m\u001b[38;5;124mMean Vector class \u001b[39m\u001b[38;5;132;01m%s\u001b[39;00m\u001b[38;5;124m: \u001b[39m\u001b[38;5;132;01m%s\u001b[39;00m\u001b[38;5;130;01m\\n\u001b[39;00m\u001b[38;5;124m'\u001b[39m \u001b[38;5;241m%\u001b[39m(cl, mean_vectors[cl\u001b[38;5;241m-\u001b[39m\u001b[38;5;241m1\u001b[39m]))\n",
      "\u001b[1;31mNameError\u001b[0m: name 'X' is not defined"
     ]
    }
   ],
   "source": [
    "np.set_printoptions(precision=2)\n",
    "\n",
    "mean_vectors = []\n",
    "for cl in range(1,2):\n",
    "    mean_vectors.append(np.mean(X[y==cl], axis=0))\n",
    "    print('Mean Vector class %s: %s\\n' %(cl, mean_vectors[cl-1]))"
   ]
  },
  {
   "cell_type": "code",
   "execution_count": null,
   "id": "b1ab1a31",
   "metadata": {},
   "outputs": [],
   "source": []
  }
 ],
 "metadata": {
  "kernelspec": {
   "display_name": "Python 3 (ipykernel)",
   "language": "python",
   "name": "python3"
  },
  "language_info": {
   "codemirror_mode": {
    "name": "ipython",
    "version": 3
   },
   "file_extension": ".py",
   "mimetype": "text/x-python",
   "name": "python",
   "nbconvert_exporter": "python",
   "pygments_lexer": "ipython3",
   "version": "3.9.12"
  },
  "vscode": {
   "interpreter": {
    "hash": "322ce4548d8a25a631c651eb8bc8d83ad2941d6088a9f882e898253bd030d8f6"
   }
  }
 },
 "nbformat": 4,
 "nbformat_minor": 5
}
